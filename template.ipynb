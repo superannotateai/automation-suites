{
 "cells": [
  {
   "cell_type": "markdown",
   "id": "13324272",
   "metadata": {},
   "source": [
    "<img src=\"docs/sa_logo.png\" width=\"250\" align=\"left\">"
   ]
  },
  {
   "cell_type": "markdown",
   "id": "e7587e54",
   "metadata": {},
   "source": [
    "#  Name\n",
    "\n",
    "This tutorial walks you through the ```task name e.g Named Entity Recognition``` automation pipeline within SuperAnnotate platform. \n",
    "\n",
    "Provide rough descriptions for each step of the tutorial\n",
    "\n",
    "1. Setup the environment and install dependences\n",
    "2. Run the Hugging Face model ```model name e.g something QANer``` model on unlabeled data\n",
    "3. Setup ```Text``` project at SuperAnnotate with corresponding classes and data\n",
    "4. Upload model predictions to the platform \n"
   ]
  },
  {
   "cell_type": "markdown",
   "id": "5c88170c",
   "metadata": {},
   "source": [
    "## 1.  Environment Setup"
   ]
  },
  {
   "cell_type": "code",
   "execution_count": null,
   "id": "5010f2df",
   "metadata": {},
   "outputs": [],
   "source": [
    "#sa installation\n",
    "! pip install superannotate "
   ]
  },
  {
   "cell_type": "markdown",
   "id": "b0678299",
   "metadata": {},
   "source": [
    "SuperAnnotate Python SDK functions work within the team scope of the platform, so a team-level authorization is required. To authorize the package in a given team scope, get the authorization token from the team settings page."
   ]
  },
  {
   "cell_type": "code",
   "execution_count": null,
   "id": "4a12e37d",
   "metadata": {},
   "outputs": [],
   "source": [
    "#sa authorization\n",
    "from superannotate import SAClient\n",
    "SDK_TOKEN = \"ADD_YOUR_TOKEN_HERE\"\n",
    "\n",
    "sa = SAClient(token = SDK_TOKEN)"
   ]
  },
  {
   "cell_type": "markdown",
   "id": "6f2cbdab",
   "metadata": {},
   "source": [
    "## 2. Model Prediction"
   ]
  },
  {
   "cell_type": "code",
   "execution_count": null,
   "id": "201d3c5b",
   "metadata": {},
   "outputs": [],
   "source": [
    "import easyocr as eo\n",
    "import json\n",
    "\n",
    "# get esayocr english model\n",
    "reader = eo.Reader(['en'])\n",
    "\n",
    "#iterate over items, generate annotation.json from predictions\n",
    "for item in data:\n",
    "    img = cv2.imread(item)\n",
    "    results = reader.readtext(img)\n",
    "    # Get all words from the prediction that have more than 0.1 confidence\n",
    "    words = [prediction[1] for prediction in results if prediction[2] > 0.1]\n",
    "    # Make a line from the predicted words\n",
    "    line = ' '.join(words) + '\\n'\n",
    "    # Set the line as pointLabel of the bounding box\n",
    "    annotion_json = {\"metadata\": {\"name\": name}, \"instances\": {\"type\": \"tag\", \"attributes\": [line]}}\n",
    "    \n",
    "    #write to disk\n",
    "    with open(f'./annotations/{name}___objects.json', 'w') as outfile:\n",
    "        json.dump(annotation_json, outfile)\n",
    "    "
   ]
  },
  {
   "cell_type": "markdown",
   "id": "3fdb72d6",
   "metadata": {},
   "source": [
    "## 2*. Model Training"
   ]
  },
  {
   "cell_type": "code",
   "execution_count": null,
   "id": "1877fda0",
   "metadata": {},
   "outputs": [],
   "source": [
    "eo.train(dataset, ner_classes)"
   ]
  },
  {
   "cell_type": "markdown",
   "id": "673af3c5",
   "metadata": {},
   "source": [
    "## 3. Project Setup"
   ]
  },
  {
   "cell_type": "code",
   "execution_count": null,
   "id": "721cdc12",
   "metadata": {},
   "outputs": [],
   "source": [
    "# 1. create text project\n",
    "project = \"Document Processing\"\n",
    "sa.create_project(project, \"---\", \"Text\")\n",
    "\n",
    "#2. create annotation classes\n",
    "sa.create_annotation_classes(project, classes)\n",
    "\n",
    "#3. attach dataset\n",
    "sa.attach_items(project, \"./data.csv\")"
   ]
  },
  {
   "cell_type": "markdown",
   "id": "6ca3cef6",
   "metadata": {},
   "source": [
    "## 4. Import Predictions"
   ]
  },
  {
   "cell_type": "code",
   "execution_count": null,
   "id": "a34126fa",
   "metadata": {},
   "outputs": [],
   "source": [
    "#1. Upload constructed annotation JSONs back to the platform.\n",
    "sa.upload_annotations_from_folder_to_project(project, \"./annotations\")"
   ]
  }
 ],
 "metadata": {
  "kernelspec": {
   "display_name": "Python 3",
   "language": "python",
   "name": "python3"
  },
  "language_info": {
   "codemirror_mode": {
    "name": "ipython",
    "version": 3
   },
   "file_extension": ".py",
   "mimetype": "text/x-python",
   "name": "python",
   "nbconvert_exporter": "python",
   "pygments_lexer": "ipython3",
   "version": "3.6.13"
  }
 },
 "nbformat": 4,
 "nbformat_minor": 5
}
