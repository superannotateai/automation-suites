{
 "cells": [
  {
   "cell_type": "markdown",
   "id": "0b2a3190",
   "metadata": {},
   "source": [
    "# OCR automation tutorial \n",
    "\n",
    "Tutorial presents how to use Optical Character Recognition(OCR) model to automate text annotations. We will use bounding box annotations annotated in the [SuperAnnotate](https://app.superannotate.com/) platform to do text prediction on them and merge predictions to the annotations. Here we use [EasyOCR](https://github.com/JaidedAI/EasyOCR) model to get predictions."
   ]
  },
  {
   "cell_type": "code",
   "execution_count": 1,
   "id": "a0b9a01c",
   "metadata": {},
   "outputs": [],
   "source": [
    "import os.path\n",
    "import tempfile\n",
    "import cv2\n",
    "import superannotate as sa\n",
    "import easyocr as eo"
   ]
  },
  {
   "cell_type": "markdown",
   "id": "64bdaf6b",
   "metadata": {},
   "source": [
    "# Initialize SuperAnnotate SDK\n",
    "\n",
    "Below you need initialize your SuperAnnotate SDK. You need to calll `init` function and pass configuration JSON file as an argument. The file should contain token of your team. To avoid initialization everytime you can set `confg.json` file in `~/.superannotate/` folder and it will automatically read from that path. SuperAnnotate SDK detailed information can be found [here](https://superannotate.readthedocs.io/en/stable/index.html)."
   ]
  },
  {
   "cell_type": "code",
   "execution_count": 2,
   "id": "30883c6e",
   "metadata": {},
   "outputs": [],
   "source": [
    "# Initialize SuperAnnotate SDK\n",
    "# path_to_config = '<your_config_file_path>'\n",
    "# sa.init(path_to_config)\n",
    "\n",
    "path_to_config = '~/.superannotate/webinar_config.json'\n",
    "sa.init(path_to_config)"
   ]
  },
  {
   "cell_type": "markdown",
   "id": "3e33e128",
   "metadata": {},
   "source": [
    "# Define variables\n",
    "\n",
    "Define project name and folder name that you want to use for OCR predictions."
   ]
  },
  {
   "cell_type": "code",
   "execution_count": 9,
   "id": "2c1d0c0f",
   "metadata": {},
   "outputs": [],
   "source": [
    "# Define your variables\n",
    "# project_name = '<your_project_name>'\n",
    "# folder_name = '<your_folder_name>'\n",
    "\n",
    "project_name = 'ocr_example_project'\n",
    "folder_name = 'test-dataset'"
   ]
  },
  {
   "cell_type": "code",
   "execution_count": 10,
   "id": "42b414f7",
   "metadata": {},
   "outputs": [],
   "source": [
    "project_path = project_name\n",
    "if folder_name:\n",
    "    project_path = f'{project_name}/{folder_name}'"
   ]
  },
  {
   "cell_type": "code",
   "execution_count": 11,
   "id": "4f0c4f5f",
   "metadata": {},
   "outputs": [
    {
     "data": {
      "text/plain": [
       "'ocr_example_project/imgs'"
      ]
     },
     "execution_count": 11,
     "metadata": {},
     "output_type": "execute_result"
    }
   ],
   "source": [
    "project_path"
   ]
  },
  {
   "cell_type": "markdown",
   "id": "f68e38d3",
   "metadata": {},
   "source": [
    "# List images\n",
    "\n",
    "SuperAnnotate SDK allows us to search images with the statuses that we are interested. In this case I listed images that have annotation status `QualityCheck`."
   ]
  },
  {
   "cell_type": "code",
   "execution_count": 12,
   "id": "e1e134c7",
   "metadata": {},
   "outputs": [],
   "source": [
    "# Get all images from the project\n",
    "imgs_list = sa.search_images(project_path, annotation_status='InProgress')"
   ]
  },
  {
   "cell_type": "markdown",
   "id": "77abc6bf",
   "metadata": {},
   "source": [
    "# Load EasyOCR for predictions\n",
    "\n",
    "[EasyOCR](https://github.com/JaidedAI/EasyOCR) is an open source OCR model for text recognition in the image. It supports 80+ languages and you also can combine multiple language predictions. However, in our case its only english text in the annotation project. "
   ]
  },
  {
   "cell_type": "code",
   "execution_count": 13,
   "id": "0aedce34",
   "metadata": {},
   "outputs": [],
   "source": [
    "# Get EasyOCR model for English text\n",
    "reader = eo.Reader(['en'])"
   ]
  },
  {
   "cell_type": "markdown",
   "id": "a15c5726",
   "metadata": {},
   "source": [
    "# Download, predict and upload annotations"
   ]
  },
  {
   "cell_type": "code",
   "execution_count": 14,
   "id": "e0f4bc88",
   "metadata": {},
   "outputs": [
    {
     "name": "stdout",
     "output_type": "stream",
     "text": [
      "SA-PYTHON-SDK - INFO - Getting 6 annotations from ocr_example_project/imgs.\n"
     ]
    },
    {
     "name": "stderr",
     "output_type": "stream",
     "text": [
      "Processing: 100%|██████████████████████████████████████████████████████████| 6/6 [00:01<00:00,  4.78it/s]\n"
     ]
    },
    {
     "name": "stdout",
     "output_type": "stream",
     "text": [
      "SA-PYTHON-SDK - INFO - Downloaded image 1.jpg to /tmp/tmp2q82jyyw \n",
      "SA-PYTHON-SDK - INFO - Uploading annotations for image 1.jpg in project ocr_example_project.\n",
      "SA-PYTHON-SDK - INFO - Downloaded image 2.png to /tmp/tmp561vxabe \n",
      "SA-PYTHON-SDK - INFO - Uploading annotations for image 2.png in project ocr_example_project.\n",
      "SA-PYTHON-SDK - INFO - Downloaded image 3.jpg to /tmp/tmpbfmd_sve \n",
      "SA-PYTHON-SDK - INFO - Uploading annotations for image 3.jpg in project ocr_example_project.\n",
      "SA-PYTHON-SDK - INFO - Downloaded image 4.jpg to /tmp/tmp9qz6shg9 \n",
      "SA-PYTHON-SDK - INFO - Uploading annotations for image 4.jpg in project ocr_example_project.\n",
      "SA-PYTHON-SDK - INFO - Downloaded image 5.jpg to /tmp/tmpxs_t5utx \n",
      "SA-PYTHON-SDK - INFO - Uploading annotations for image 5.jpg in project ocr_example_project.\n",
      "SA-PYTHON-SDK - INFO - Downloaded image 6.jpg to /tmp/tmpfk_5ud7g \n",
      "SA-PYTHON-SDK - INFO - Uploading annotations for image 6.jpg in project ocr_example_project.\n"
     ]
    }
   ],
   "source": [
    "sa_annotations = sa.get_annotations(project_path, imgs_list)\n",
    "# Loop over all images and set text for each bounding box\n",
    "for annotation in sa_annotations:\n",
    "    # Create a temporary Directory to download images there\n",
    "    with tempfile.TemporaryDirectory() as tmp_dirname:\n",
    "        # Download image to the following directory\n",
    "        sa.download_image(project_path, annotation['metadata']['name'], tmp_dirname)\n",
    "        # Open image with OpenCV lib\n",
    "        img = cv2.imread(os.path.join(tmp_dirname, annotation['metadata']['name']))\n",
    "        # Loop over all instances\n",
    "        for instance in annotation['instances']:\n",
    "            if instance['type'] != 'bbox':\n",
    "                continue\n",
    "            # Get bounding box sizes from annotations\n",
    "            bbox = instance['points']\n",
    "            # Crop image with bounding box\n",
    "            cropped_img = img[int(bbox['y1']):int(bbox['y2']) + 1, int(bbox['x1']):int(bbox['x2']) + 1]\n",
    "            # Run EasyOCR model on cropped image\n",
    "            results = reader.readtext(cropped_img)\n",
    "            # Get all words from the prediction that have more than 0.1 confidence\n",
    "            words = [prediction[1] for prediction in results if prediction[2] > 0.1]\n",
    "            # Make a line from the predicted words\n",
    "            line = ' '.join(words) + '\\n'\n",
    "            # Set the line as pointLabel of the bounding box\n",
    "            instance['pointLabels']['0'] = line\n",
    "        # Upload annotation back to the project\n",
    "        sa.upload_image_annotations(project_path, annotation['metadata']['name'], annotation) \n"
   ]
  },
  {
   "cell_type": "code",
   "execution_count": null,
   "id": "fafabbb4",
   "metadata": {},
   "outputs": [],
   "source": []
  },
  {
   "cell_type": "code",
   "execution_count": null,
   "id": "7b408bd4",
   "metadata": {},
   "outputs": [],
   "source": []
  },
  {
   "cell_type": "code",
   "execution_count": null,
   "id": "f1a90eea",
   "metadata": {},
   "outputs": [],
   "source": []
  }
 ],
 "metadata": {
  "kernelspec": {
   "display_name": "Python 3 (ipykernel)",
   "language": "python",
   "name": "python3"
  },
  "language_info": {
   "codemirror_mode": {
    "name": "ipython",
    "version": 3
   },
   "file_extension": ".py",
   "mimetype": "text/x-python",
   "name": "python",
   "nbconvert_exporter": "python",
   "pygments_lexer": "ipython3",
   "version": "3.8.10"
  }
 },
 "nbformat": 4,
 "nbformat_minor": 5
}
