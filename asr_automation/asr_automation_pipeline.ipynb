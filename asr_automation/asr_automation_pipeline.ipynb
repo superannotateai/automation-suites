{
  "cells": [
    {
      "cell_type": "markdown",
      "id": "13324272",
      "metadata": {
        "id": "13324272"
      },
      "source": [
        "<img src=\"https://github.com/superannotateai/automation-suites/blob/main/docs/sa_logo.png?raw=1\" width=\"250\" align=\"left\">"
      ]
    },
    {
      "cell_type": "markdown",
      "id": "e7587e54",
      "metadata": {
        "id": "e7587e54"
      },
      "source": [
        "#  ASR with Whisper\n",
        "\n",
        "This tutorial walks you through the ```Automatic Speech Recognition``` automation pipeline within SuperAnnotate platform. \n",
        "\n",
        "In this tutorial we will go through the following steps:\n",
        "\n",
        "1. Setup the environment and install dependences\n",
        "2. Run the ```OpenAI Whisper``` model on ```US Election 2020 - Presidential Debates``` dataset\n",
        "3. Setup a ```Video``` project at SuperAnnotate with the dataset audio files\n",
        "4. Upload the transcribed text with Whisper as a freetext attribute to SuperAnnotate platform\n",
        "\n"
      ]
    },
    {
      "cell_type": "markdown",
      "id": "5c88170c",
      "metadata": {
        "id": "5c88170c"
      },
      "source": [
        "## 1.  Environment Setup"
      ]
    },
    {
      "cell_type": "markdown",
      "source": [
        "Please hit the ```RESTART RUNTIME``` button in the installation logs below, or if it is not there manually navigate Runtime -> Restart Runtime"
      ],
      "metadata": {
        "id": "FxLPYZEb0sdL"
      },
      "id": "FxLPYZEb0sdL"
    },
    {
      "cell_type": "code",
      "execution_count": null,
      "id": "5010f2df",
      "metadata": {
        "id": "5010f2df"
      },
      "outputs": [],
      "source": [
        "! pip install superannotate #SA SDK installation\n",
        "! pip install git+https://github.com/openai/whisper.git #install OpenAI Whisper\n"
      ]
    },
    {
      "cell_type": "markdown",
      "source": [
        "# 1.1  User Variables Setup"
      ],
      "metadata": {
        "id": "-znAjTBVotIT"
      },
      "id": "-znAjTBVotIT"
    },
    {
      "cell_type": "markdown",
      "source": [
        "SuperAnnotate Python SDK functions work within the team scope of the platform, so a team-level authorization is required. To authorize the package in a given team scope, get the authorization token from the team settings page."
      ],
      "metadata": {
        "id": "rliZ7tO3rgb5"
      },
      "id": "rliZ7tO3rgb5"
    },
    {
      "cell_type": "code",
      "source": [
        "SDK_TOKEN = \"ADD_YOUR_TOKEN_HERE\" #Your SuperAnnotate SDK token\n",
        "PROJECT_NAME = \"ADD_YOUR_PROJECT_NAME_HERE\" #A project with this name will be created to upload all voice files and transcribtions"
      ],
      "metadata": {
        "id": "NXVjtPPElHEh"
      },
      "id": "NXVjtPPElHEh",
      "execution_count": null,
      "outputs": []
    },
    {
      "cell_type": "markdown",
      "source": [
        "#1.2 Constants Setup"
      ],
      "metadata": {
        "id": "ucDzc9DLo4_a"
      },
      "id": "ucDzc9DLo4_a"
    },
    {
      "cell_type": "code",
      "source": [
        "S3_BASE_URL = \"https://sa-public-datasets.s3.amazonaws.com/audio-datasets/us-elections-2020-debates/\"\n",
        "DATASET_FILES = [\n",
        "    \"us_election_2020_1st_presidential_debate.mp3\",\n",
        "    \"us_election_2020_2nd_presidential_debate.mp3\",\n",
        "    \"us_election_2020_biden_town_hall.mp3\",\n",
        "    \"us_election_2020_trump_town_hall.mp3\",\n",
        "    \"us_election_2020_vice_presidential_debate.mp3\"\n",
        "]"
      ],
      "metadata": {
        "id": "Lp0ODWJBlqTT"
      },
      "id": "Lp0ODWJBlqTT",
      "execution_count": null,
      "outputs": []
    },
    {
      "cell_type": "markdown",
      "source": [
        "#1.3 Download the data"
      ],
      "metadata": {
        "id": "U9n7c0sBrnE3"
      },
      "id": "U9n7c0sBrnE3"
    },
    {
      "cell_type": "code",
      "source": [
        "from os.path import join\n",
        "import requests\n",
        "import os\n",
        "\n",
        "os.makedirs('data', exist_ok=True)\n",
        "for dataset_file in DATASET_FILES:\n",
        "  response = requests.get(join(S3_BASE_URL, dataset_file))\n",
        "  with open(join('data', dataset_file), 'wb') as f:\n",
        "    f.write(response.content)"
      ],
      "metadata": {
        "id": "insrPdxtruc_"
      },
      "id": "insrPdxtruc_",
      "execution_count": null,
      "outputs": []
    },
    {
      "cell_type": "markdown",
      "id": "6f2cbdab",
      "metadata": {
        "id": "6f2cbdab"
      },
      "source": [
        "## 2. Model Prediction"
      ]
    },
    {
      "cell_type": "code",
      "execution_count": null,
      "id": "201d3c5b",
      "metadata": {
        "id": "201d3c5b"
      },
      "outputs": [],
      "source": [
        "import whisper\n",
        "\n",
        "model = whisper.load_model('tiny')\n",
        "transcribtions = {}\n",
        "for dataset_file in DATASET_FILES:\n",
        "  result = model.transcribe(join('data', dataset_file))\n",
        "  transcribtions[dataset_file] = result[\"text\"]"
      ]
    },
    {
      "cell_type": "markdown",
      "id": "673af3c5",
      "metadata": {
        "id": "673af3c5"
      },
      "source": [
        "## 3. Project Setup"
      ]
    },
    {
      "cell_type": "markdown",
      "source": [
        "# 3.1 Authorize SA SDK\n"
      ],
      "metadata": {
        "id": "kbfXGIBhvJ6x"
      },
      "id": "kbfXGIBhvJ6x"
    },
    {
      "cell_type": "code",
      "source": [
        "from superannotate import SAClient\n",
        "\n",
        "sa = SAClient(token=SDK_TOKEN)"
      ],
      "metadata": {
        "id": "BqgWghXHvOQK"
      },
      "id": "BqgWghXHvOQK",
      "execution_count": null,
      "outputs": []
    },
    {
      "cell_type": "markdown",
      "source": [
        "#3.2 Create the project and attach the dataset"
      ],
      "metadata": {
        "id": "ba7slGyyvgHg"
      },
      "id": "ba7slGyyvgHg"
    },
    {
      "cell_type": "code",
      "execution_count": null,
      "id": "721cdc12",
      "metadata": {
        "id": "721cdc12"
      },
      "outputs": [],
      "source": [
        "# 1. create a Video project\n",
        "sa.create_project(PROJECT_NAME, \"---\", \"Video\")\n",
        "\n",
        "# 2. create dataset CSV to attach to the platform\n",
        "import pandas as pd\n",
        "\n",
        "data = {\n",
        "    \"name\": DATASET_FILES,\n",
        "    \"url\": [join(S3_BASE_URL, dataset_file) for dataset_file in DATASET_FILES]\n",
        "}\n",
        "df = pd.DataFrame(data)\n",
        "df.to_csv('data.csv')\n",
        "\n",
        "# 3. attach dataset\n",
        "sa.attach_items(PROJECT_NAME, \"./data.csv\")"
      ]
    },
    {
      "cell_type": "markdown",
      "id": "6ca3cef6",
      "metadata": {
        "id": "6ca3cef6"
      },
      "source": [
        "## 4. Import Predictions"
      ]
    },
    {
      "cell_type": "markdown",
      "source": [
        "#4.1 Construct the annotation dictionaries"
      ],
      "metadata": {
        "id": "ZLitcBJYxENW"
      },
      "id": "ZLitcBJYxENW"
    },
    {
      "cell_type": "code",
      "source": [
        "annotations = []\n",
        "for file_name, transcribtion in transcribtions.items():\n",
        "  sa_format = {\n",
        "      \"metadata\": {\n",
        "          \"name\": file_name\n",
        "      },\n",
        "      \"instances\": [],\n",
        "      \"tags\": [transcribtion],\n",
        "      \"comments\": []\n",
        "  }\n",
        "  annotations.append(sa_format)"
      ],
      "metadata": {
        "id": "G5GA0Qn6xB5S"
      },
      "id": "G5GA0Qn6xB5S",
      "execution_count": null,
      "outputs": []
    },
    {
      "cell_type": "markdown",
      "source": [
        "#4.2 Upload the transcribtions to the platform"
      ],
      "metadata": {
        "id": "ggoa8TZDxt8K"
      },
      "id": "ggoa8TZDxt8K"
    },
    {
      "cell_type": "code",
      "execution_count": null,
      "id": "a34126fa",
      "metadata": {
        "id": "a34126fa"
      },
      "outputs": [],
      "source": [
        "sa.upload_annotations(PROJECT_NAME, annotations)"
      ]
    }
  ],
  "metadata": {
    "kernelspec": {
      "display_name": "Python 3",
      "language": "python",
      "name": "python3"
    },
    "language_info": {
      "codemirror_mode": {
        "name": "ipython",
        "version": 3
      },
      "file_extension": ".py",
      "mimetype": "text/x-python",
      "name": "python",
      "nbconvert_exporter": "python",
      "pygments_lexer": "ipython3",
      "version": "3.6.13"
    },
    "colab": {
      "provenance": []
    },
    "accelerator": "GPU",
    "gpuClass": "standard"
  },
  "nbformat": 4,
  "nbformat_minor": 5
}