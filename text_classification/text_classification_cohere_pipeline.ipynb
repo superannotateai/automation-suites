{
 "cells": [
  {
   "cell_type": "markdown",
   "id": "13324272",
   "metadata": {
    "id": "13324272"
   },
   "source": [
    "<img src=\"https://github.com/superannotateai/automation-suites/blob/main/docs/sa_logo.png?raw=1\" width=\"250\" align=\"left\">"
   ]
  },
  {
   "cell_type": "markdown",
   "id": "e7587e54",
   "metadata": {
    "id": "e7587e54"
   },
   "source": [
    "#  Name\n",
    "\n",
    "This tutorial walks you through the ```Text Classification``` automation pipeline within SuperAnnotate platform. We will utilize ```Amazon Product Reviews``` dataset, which is in fact a hierarchical text classification dataset, but in this tutorial we will treat it as a usual - single level classification dataset and will predict only the level 1 labels which reside under ```Cat1``` column. For this purpose we will proceed with the following steps: \n",
    "\n",
    "\n",
    "1. Setup the environment and install dependences\n",
    "2. Run the  ```Cohere classification``` model on validation data, to understand the model performance\n",
    "3. Run the  ```Cohere classification``` model on unlabeled data\n",
    "4. Setup ```Text``` project at SuperAnnotate with corresponding classes and data\n",
    "5. Upload model predictions to the platform \n",
    "6. Results visualized in the platform\n"
   ]
  },
  {
   "cell_type": "markdown",
   "id": "5c88170c",
   "metadata": {
    "id": "5c88170c"
   },
   "source": [
    "# 1.  Environment Setup"
   ]
  },
  {
   "cell_type": "markdown",
   "id": "6SPUBe17Vbud",
   "metadata": {
    "id": "6SPUBe17Vbud"
   },
   "source": [
    "Please hit the ```RESTART RUNTIME``` button in the installation logs below, or if it is not there manually navigate Runtime -> Restart Runtime"
   ]
  },
  {
   "cell_type": "code",
   "execution_count": null,
   "id": "5010f2df",
   "metadata": {
    "id": "5010f2df"
   },
   "outputs": [],
   "source": [
    "! pip install superannotate #SA SDK installation\n",
    "! pip install cohere==2.9.1 #Cohere installation"
   ]
  },
  {
   "cell_type": "markdown",
   "id": "1M5Kj03-Vsia",
   "metadata": {
    "id": "1M5Kj03-Vsia"
   },
   "source": [
    "## 1.1  User Variables Setup"
   ]
  },
  {
   "cell_type": "markdown",
   "id": "wZW59XRJVv3h",
   "metadata": {
    "id": "wZW59XRJVv3h"
   },
   "source": [
    "SuperAnnotate Python SDK functions work within the team scope of the platform, so a team-level authorization is required. To authorize the package in a given team scope, get the authorization token from the team settings page. To get the cohere API key navigate to: [https://dashboard.cohere.ai/](https://dashboard.cohere.ai/) and click on the API Keys on the left sidebar.\n",
    "\n"
   ]
  },
  {
   "cell_type": "code",
   "execution_count": null,
   "id": "w8jzsEj6bDms",
   "metadata": {
    "id": "w8jzsEj6bDms"
   },
   "outputs": [],
   "source": [
    "SDK_TOKEN = \"ADD_YOUR_TOKEN_HERE\" #Your SuperAnnotate SDK token\n",
    "PROJECT_NAME = \"ADD_YOUR_PROJECT_NAME_HERE\" #A project with this name will be created to upload all voice files and transcribtions\n",
    "COHERE_TOKEN = \"ADD_YOUR_COHERE_TOKEN_HERE\" #Your Cohere API token"
   ]
  },
  {
   "cell_type": "markdown",
   "id": "ScxscxMFWJ2Y",
   "metadata": {
    "id": "ScxscxMFWJ2Y"
   },
   "source": [
    "## 1.2 Constants Setup"
   ]
  },
  {
   "cell_type": "code",
   "execution_count": null,
   "id": "zOPv6lM18Z_j",
   "metadata": {
    "id": "zOPv6lM18Z_j"
   },
   "outputs": [],
   "source": [
    "S3_BASE_URL = \"https://sa-public-datasets.s3.amazonaws.com/text-datasets/hierarchical-text-classification/\"\n",
    "TRAIN_VAL_FILES = {\n",
    "    \"train\": \"training-files/train_40k.csv\",\n",
    "    \"val\": \"training-files/val_10k.csv\"\n",
    "}\n",
    "UNLABELED_FILES_BASE_URL = S3_BASE_URL + \"unlabeled-files/\"\n",
    "UNLABELED_FILES_LIST = \"unlabeled_file_names.txt\"\n",
    "UNLABELED_REVIEWS_CSV = \"unlabeled10k.csv\""
   ]
  },
  {
   "cell_type": "markdown",
   "id": "uXyIaaI3W-wj",
   "metadata": {
    "id": "uXyIaaI3W-wj"
   },
   "source": [
    "## 1.3 Download the data"
   ]
  },
  {
   "cell_type": "code",
   "execution_count": null,
   "id": "4_PwunUC9YHc",
   "metadata": {
    "id": "4_PwunUC9YHc"
   },
   "outputs": [],
   "source": [
    "from os.path import join, basename\n",
    "import requests\n",
    "import os\n",
    "from tqdm import tqdm\n",
    "\n",
    "DATA_DIR = 'data/'\n",
    "UNLABELED_DIR = join(DATA_DIR, 'unlabeled-files')\n",
    "TRAIN_VAL_PATHS = {\n",
    "    \"train\": join(DATA_DIR, basename(TRAIN_VAL_FILES[\"train\"])),\n",
    "    \"val\": join(DATA_DIR, basename(TRAIN_VAL_FILES[\"val\"]))\n",
    "}\n",
    "UNLABELED_REVIEWS_CSV_PATH = join(UNLABELED_DIR, UNLABELED_REVIEWS_CSV)\n",
    "SA_ATTACH_URL_DATA = join(DATA_DIR, 'data.csv')\n",
    "\n",
    "os.makedirs(UNLABELED_DIR, exist_ok=True)\n",
    "for split, dataset_file in TRAIN_VAL_FILES.items():\n",
    "  response = requests.get(join(S3_BASE_URL, dataset_file))\n",
    "  with open(TRAIN_VAL_PATHS[split], 'wb') as f:\n",
    "    f.write(response.content)\n",
    "\n",
    "response = requests.get(join(S3_BASE_URL, UNLABELED_FILES_LIST))\n",
    "with open(join('data', UNLABELED_FILES_LIST), 'wb') as f:\n",
    "  f.write(response.content)\n",
    "\n",
    "response = requests.get(join(UNLABELED_FILES_BASE_URL, UNLABELED_REVIEWS_CSV))\n",
    "with open(UNLABELED_REVIEWS_CSV_PATH, 'wb') as f:\n",
    "  f.write(response.content)\n",
    "\n",
    "with open(join('data', UNLABELED_FILES_LIST), 'r') as f:\n",
    "  unlabeled_file_names = [file_name.strip() for file_name in f.readlines()]"
   ]
  },
  {
   "cell_type": "markdown",
   "id": "LnRg3ZSSYsDF",
   "metadata": {
    "id": "LnRg3ZSSYsDF"
   },
   "source": [
    "# 2. Load and visualize the training data."
   ]
  },
  {
   "cell_type": "code",
   "execution_count": null,
   "id": "1t4KnxCl-Qr6",
   "metadata": {
    "id": "1t4KnxCl-Qr6"
   },
   "outputs": [],
   "source": [
    "import pandas as pd\n",
    "import plotly.express as px\n",
    "df = pd.read_csv(TRAIN_VAL_PATHS[\"train\"])\n",
    "fig = px.histogram(df, x=\"Cat1\", color=\"Cat1\")\n",
    "fig.show()"
   ]
  },
  {
   "cell_type": "markdown",
   "id": "SuO2rZfWZVcA",
   "metadata": {
    "id": "SuO2rZfWZVcA"
   },
   "source": [
    "**Warning!** We see that a significant class imbalance is present in the dataset. In fact the ```cohere.classify``` API uses provided examples to perform a few-shot learning to predict the classes of provided inputs. For this purpose to **avoid long waiting times or API crashes**, we will not provide the whole training set as examples, we will just randomly sample 800 entries from each of the six classes, thereby also balancing the dataset."
   ]
  },
  {
   "cell_type": "markdown",
   "id": "WFs_auYccQDJ",
   "metadata": {
    "id": "WFs_auYccQDJ"
   },
   "source": [
    "## 2.1 Sample 4800 rows for cohere examples"
   ]
  },
  {
   "cell_type": "code",
   "execution_count": null,
   "id": "5giVrJXf9OD_",
   "metadata": {
    "id": "5giVrJXf9OD_"
   },
   "outputs": [],
   "source": [
    "sampled_dfs = []\n",
    "for class_name in df[\"Cat1\"].unique():\n",
    "  sampled_dfs.append(df[df[\"Cat1\"] == class_name].sample(n=800, replace=False))\n",
    "balanced_reviews = pd.concat(sampled_dfs)"
   ]
  },
  {
   "cell_type": "markdown",
   "id": "JwuRQwOwcYSc",
   "metadata": {
    "id": "JwuRQwOwcYSc"
   },
   "source": [
    "Cohere accepts examples and inputs with maximum length of 512 tokens. For this purpose we will process training and validation reviews and take only the first 512 tokens of each review"
   ]
  },
  {
   "cell_type": "markdown",
   "id": "eaUbMxtNc7kO",
   "metadata": {
    "id": "eaUbMxtNc7kO"
   },
   "source": [
    "## 2.2 Preprocess all sets"
   ]
  },
  {
   "cell_type": "code",
   "execution_count": null,
   "id": "UpT2HJg0dKWh",
   "metadata": {
    "id": "UpT2HJg0dKWh"
   },
   "outputs": [],
   "source": [
    "import cohere\n",
    "from cohere.classify import Example\n",
    "from tqdm import tqdm\n",
    "import time\n",
    "\n",
    "co_client = cohere.Client(COHERE_TOKEN)\n",
    "COHERE_MAX_TOKEN_SIZE = 512"
   ]
  },
  {
   "cell_type": "markdown",
   "id": "0B7B-S2cdQZ8",
   "metadata": {
    "id": "0B7B-S2cdQZ8"
   },
   "source": [
    "### 2.2.1 Load validation labeled data"
   ]
  },
  {
   "cell_type": "code",
   "execution_count": null,
   "id": "7bBjPrev-bj2",
   "metadata": {
    "id": "7bBjPrev-bj2"
   },
   "outputs": [],
   "source": [
    "def process_row_train_val(data):\n",
    "  _, row = data\n",
    "  tokens = co_client.tokenize(text=row[\"Text\"]).tokens\n",
    "  shortened_txt = co_client.detokenize(tokens[:COHERE_MAX_TOKEN_SIZE]).text\n",
    "  time.sleep(0.5) #add delay to not surpass the Cohere trial API limit of 100 requests/min\n",
    "\n",
    "  return Example(shortened_txt, row[\"Cat1\"])\n",
    "\n",
    "# In a nutshell what the data loading script does is running\n",
    "# over the rows of the dataframe, tokenizing the the review text \n",
    "# and detokenizing only the first COHERE_MAX_TOKEN_SIZE tokens.\n",
    "# Finally it creates a cohere.Example with this truncated review text\n",
    "# and its label\n",
    "\n",
    "class_data = []\n",
    "for data in tqdm(balanced_reviews.iterrows()):\n",
    "  class_data.append(process_row_train_val(data))\n",
    "\n",
    "time.sleep(60)\n",
    "val_df = pd.read_csv(TRAIN_VAL_PATHS[\"val\"])\n",
    "\n",
    "class_data_val = []\n",
    "for data in tqdm(val_df.iterrows()):\n",
    "  class_data_val.append(process_row_train_val(data))\n",
    "\n",
    "time.sleep(60)"
   ]
  },
  {
   "cell_type": "markdown",
   "id": "nJasU5R7daSM",
   "metadata": {
    "id": "nJasU5R7daSM"
   },
   "source": [
    "### 2.2.2 Load unlabeled data"
   ]
  },
  {
   "cell_type": "code",
   "execution_count": null,
   "id": "Bdq5luzyaBeq",
   "metadata": {
    "id": "Bdq5luzyaBeq"
   },
   "outputs": [],
   "source": [
    "unlabeled_df = pd.read_csv(UNLABELED_REVIEWS_CSV_PATH)\n",
    "unlabled_reviews_processed = {}\n",
    "\n",
    "def process_unlabeled_review(data):\n",
    "  _, row = data\n",
    "  tokens = co_client.tokenize(text=row['review']).tokens\n",
    "  shortened_txt = co_client.detokenize(tokens[:COHERE_MAX_TOKEN_SIZE]).text\n",
    "  time.sleep(0.5) #add delay to not surpass the Cohere trial API limit of 100 requests/min\n",
    "  \n",
    "  return (row['file_name'], shortened_txt)\n",
    "\n",
    "unlabled_reviews_processed = {}\n",
    "for data in tqdm(unlabeled_df.iterrows()):\n",
    "  file_name, review = process_unlabeled_review(data)\n",
    "  unlabled_reviews_processed[file_name] = review"
   ]
  },
  {
   "cell_type": "markdown",
   "id": "HW2gze0OSN7u",
   "metadata": {
    "id": "HW2gze0OSN7u"
   },
   "source": [
    "## 2.3 Measure Cohere performance on the validation set"
   ]
  },
  {
   "cell_type": "code",
   "execution_count": null,
   "id": "enzoG-JylJcb",
   "metadata": {
    "id": "enzoG-JylJcb"
   },
   "outputs": [],
   "source": [
    "from sklearn.metrics import classification_report\n",
    "\n",
    "batch_size = 400\n",
    "\n",
    "def get_predictions(inputs, batch_size, examples=class_data):\n",
    "  class_results = []\n",
    "  for i in tqdm(range(len(inputs) // batch_size)):\n",
    "    batch_start_id, batch_end_id = batch_size * i, batch_size * (i + 1)\n",
    "    batch_preds = co_client.classify(inputs=inputs[batch_start_id : batch_end_id], model='small', examples=examples)\n",
    "    class_results.extend([pred.prediction for pred in batch_preds])\n",
    "  \n",
    "  return class_results\n",
    "\n",
    "val_inputs = [item.text for item in class_data_val]\n",
    "val_pred_results = get_predictions(val_inputs, batch_size)\n",
    "print(classification_report(val_pred_results, [entry.label for entry in class_data_val]))"
   ]
  },
  {
   "cell_type": "markdown",
   "id": "QakctISOVGlz",
   "metadata": {
    "id": "QakctISOVGlz"
   },
   "source": [
    "# 3. Get predictions for the unlabeled set"
   ]
  },
  {
   "cell_type": "code",
   "execution_count": null,
   "id": "mOjaZhyuVWZg",
   "metadata": {
    "id": "mOjaZhyuVWZg"
   },
   "outputs": [],
   "source": [
    "test_inputs = list(unlabled_reviews_processed.values())\n",
    "test_pred_results = get_predictions(test_inputs, batch_size)\n",
    "test_preds_mapping = dict(zip(unlabled_reviews_processed.keys(), test_pred_results))"
   ]
  },
  {
   "cell_type": "markdown",
   "id": "-MeDAGCGWMU-",
   "metadata": {
    "id": "-MeDAGCGWMU-"
   },
   "source": [
    "# 4. Project Setup"
   ]
  },
  {
   "cell_type": "markdown",
   "id": "5jGHSgJCb_Lw",
   "metadata": {
    "id": "5jGHSgJCb_Lw"
   },
   "source": [
    "## 4.1 Authorize SA SDK"
   ]
  },
  {
   "cell_type": "code",
   "execution_count": null,
   "id": "4a12e37d",
   "metadata": {
    "id": "4a12e37d"
   },
   "outputs": [],
   "source": [
    "from superannotate import SAClient\n",
    "\n",
    "sa_client = SAClient(token=SDK_TOKEN)"
   ]
  },
  {
   "cell_type": "markdown",
   "id": "6f2cbdab",
   "metadata": {
    "id": "6f2cbdab"
   },
   "source": [
    "## 4.2 Create the project and attach the dataset"
   ]
  },
  {
   "cell_type": "markdown",
   "id": "8fBY8bJCo2Be",
   "metadata": {
    "id": "8fBY8bJCo2Be"
   },
   "source": [
    "### 4.2.1 Create a Text project"
   ]
  },
  {
   "cell_type": "code",
   "execution_count": null,
   "id": "h3zil2OJo72E",
   "metadata": {
    "id": "h3zil2OJo72E"
   },
   "outputs": [],
   "source": [
    "sa_client.create_project(PROJECT_NAME, \"Amazon Product Reviews 10k dataset\", \"Document\")"
   ]
  },
  {
   "cell_type": "markdown",
   "id": "fFeK5pLEo-Is",
   "metadata": {
    "id": "fFeK5pLEo-Is"
   },
   "source": [
    "### 4.2.2 Create dataset CSV to attach to the platform"
   ]
  },
  {
   "cell_type": "code",
   "execution_count": null,
   "id": "zMUTVo5ppETG",
   "metadata": {
    "id": "zMUTVo5ppETG"
   },
   "outputs": [],
   "source": [
    "import pandas as pd\n",
    "\n",
    "data = {\n",
    "    \"name\": unlabeled_file_names,\n",
    "    \"url\": [join(UNLABELED_FILES_BASE_URL, file_name) for file_name in unlabeled_file_names]\n",
    "}\n",
    "df = pd.DataFrame(data)\n",
    "df.to_csv(SA_ATTACH_URL_DATA)"
   ]
  },
  {
   "cell_type": "markdown",
   "id": "gZYs8L-mpHR0",
   "metadata": {
    "id": "gZYs8L-mpHR0"
   },
   "source": [
    "### 4.2.3 Attach the dataset"
   ]
  },
  {
   "cell_type": "code",
   "execution_count": null,
   "id": "fWJEIPGTpKQM",
   "metadata": {
    "id": "fWJEIPGTpKQM"
   },
   "outputs": [],
   "source": [
    "sa_client.attach_items(PROJECT_NAME, SA_ATTACH_URL_DATA)"
   ]
  },
  {
   "cell_type": "markdown",
   "id": "dyAlSBfnpOVI",
   "metadata": {
    "id": "dyAlSBfnpOVI"
   },
   "source": [
    "### 4.2.4 Create classes in the SA Project"
   ]
  },
  {
   "cell_type": "code",
   "execution_count": null,
   "id": "201d3c5b",
   "metadata": {
    "id": "201d3c5b"
   },
   "outputs": [],
   "source": [
    "# using the colors already generated by plotly in step 2.0\n",
    "class_color_plotly = {}\n",
    "for hist_bin in fig.data:\n",
    "  class_color_plotly[hist_bin.name.split('=')[-1].strip()] = hist_bin.marker.color.upper()\n",
    "\n",
    "for class_name, color in class_color_plotly.items():\n",
    "  sa_client.create_annotation_class(project=PROJECT_NAME, name=class_name, color=color, class_type='tag')"
   ]
  },
  {
   "cell_type": "markdown",
   "id": "673af3c5",
   "metadata": {
    "id": "673af3c5"
   },
   "source": [
    "# 5. Import Predictions"
   ]
  },
  {
   "cell_type": "markdown",
   "id": "AxUW3K9NoVa-",
   "metadata": {
    "id": "AxUW3K9NoVa-"
   },
   "source": [
    "## 5.1 Construct the annotation dictionaries"
   ]
  },
  {
   "cell_type": "code",
   "execution_count": null,
   "id": "721cdc12",
   "metadata": {
    "id": "721cdc12"
   },
   "outputs": [],
   "source": [
    "annotations = []\n",
    "for file_name, class_name in test_preds_mapping.items():\n",
    "  sa_format = {\n",
    "    \"metadata\": {\n",
    "      \"name\": file_name\n",
    "    },\n",
    "    \"instances\": [\n",
    "      {\n",
    "        \"type\": \"tag\",\n",
    "        \"className\": class_name,\n",
    "      }\n",
    "    ],\n",
    "    \"tags\": [],\n",
    "    \"freeText\": \"\"\n",
    "  }\n",
    "  annotations.append(sa_format)"
   ]
  },
  {
   "cell_type": "markdown",
   "id": "6cQEyZzMopru",
   "metadata": {
    "id": "6cQEyZzMopru"
   },
   "source": [
    "## 5.2 Upload the predictions to the platform"
   ]
  },
  {
   "cell_type": "code",
   "execution_count": null,
   "id": "PB9Uj8bBopAc",
   "metadata": {
    "id": "PB9Uj8bBopAc"
   },
   "outputs": [],
   "source": [
    "sa_client.upload_annotations(PROJECT_NAME, annotations)"
   ]
  },
  {
   "cell_type": "markdown",
   "id": "6ca3cef6",
   "metadata": {
    "id": "6ca3cef6"
   },
   "source": [
    "# 6. Results visualized in the platform"
   ]
  },
  {
   "cell_type": "markdown",
   "id": "yqdeDqPUq2Jv",
   "metadata": {
    "id": "yqdeDqPUq2Jv"
   },
   "source": [
    "After finishing all these steps you can navigate to the [SuperAnnotate Platform](https://app.superannotate.com), login choose your team (to which the SDK_TOKEN in this tutorial belongs). There a new project with PROJECT_NAME should be created. When opening any of the text files in that project you will see the editor display as seen below:![cohere_tutorial.jpg](data:image/jpeg;base64,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)\n",
    "where on the right side panel - shown with a red box you can see the Cohere predicted label for the review."
   ]
  }
 ],
 "metadata": {
  "colab": {
   "provenance": []
  },
  "gpuClass": "standard",
  "kernelspec": {
   "display_name": "Python 3 (ipykernel)",
   "language": "python",
   "name": "python3"
  },
  "language_info": {
   "codemirror_mode": {
    "name": "ipython",
    "version": 3
   },
   "file_extension": ".py",
   "mimetype": "text/x-python",
   "name": "python",
   "nbconvert_exporter": "python",
   "pygments_lexer": "ipython3",
   "version": "3.9.12"
  }
 },
 "nbformat": 4,
 "nbformat_minor": 5
}
